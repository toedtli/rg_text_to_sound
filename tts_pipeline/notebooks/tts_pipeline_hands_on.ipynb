{
  "nbformat": 4,
  "nbformat_minor": 0,
  "metadata": {
    "colab": {
      "name": "tts_pipeline hands-on.ipynb",
      "provenance": []
    },
    "kernelspec": {
      "name": "python3",
      "display_name": "Python 3"
    },
    "language_info": {
      "name": "python"
    }
  },
  "cells": [
    {
      "cell_type": "code",
      "metadata": {
        "colab": {
          "base_uri": "https://localhost:8080/",
          "height": 1000
        },
        "id": "DTm4gI7SVDAM",
        "outputId": "a587153a-d956-462d-f31f-49334f43a2c4"
      },
      "source": [
        "! pip install git+https://git@github.com/TheSoundOfAIOSR/rg_text_to_sound.git#\"subdirectory=playground/mirco_nani/tts_pipeline\" "
      ],
      "execution_count": 1,
      "outputs": [
        {
          "output_type": "stream",
          "text": [
            "Collecting git+https://****@github.com/TheSoundOfAIOSR/rg_text_to_sound.git#subdirectory=playground/mirco_nani/tts_pipeline\n",
            "  Cloning https://****@github.com/TheSoundOfAIOSR/rg_text_to_sound.git to /tmp/pip-req-build-fwb8rpdh\n",
            "  Running command git clone -q 'https://****@github.com/TheSoundOfAIOSR/rg_text_to_sound.git' /tmp/pip-req-build-fwb8rpdh\n",
            "Collecting numpy==1.19.2\n",
            "\u001b[?25l  Downloading https://files.pythonhosted.org/packages/9b/04/c3846024ddc7514cde17087f62f0502abf85c53e8f69f6312c70db6d144e/numpy-1.19.2-cp37-cp37m-manylinux2010_x86_64.whl (14.5MB)\n",
            "\u001b[K     |████████████████████████████████| 14.5MB 293kB/s \n",
            "\u001b[?25hRequirement already satisfied: tensorflow>=2.4.0 in /usr/local/lib/python3.7/dist-packages (from soundofai-osr-tts-pipeline==0.1.0) (2.4.1)\n",
            "Requirement already satisfied: tensorflow_hub>=0.11.0 in /usr/local/lib/python3.7/dist-packages (from soundofai-osr-tts-pipeline==0.1.0) (0.11.0)\n",
            "Collecting tensorflow_text>=2.4.3\n",
            "\u001b[?25l  Downloading https://files.pythonhosted.org/packages/b6/c0/c0fed4301f592c3b56638ae7292612c17d91a43891ba1aaf9636d535beae/tensorflow_text-2.4.3-cp37-cp37m-manylinux1_x86_64.whl (3.4MB)\n",
            "\u001b[K     |████████████████████████████████| 3.4MB 42.9MB/s \n",
            "\u001b[?25hRequirement already satisfied: astunparse~=1.6.3 in /usr/local/lib/python3.7/dist-packages (from tensorflow>=2.4.0->soundofai-osr-tts-pipeline==0.1.0) (1.6.3)\n",
            "Requirement already satisfied: opt-einsum~=3.3.0 in /usr/local/lib/python3.7/dist-packages (from tensorflow>=2.4.0->soundofai-osr-tts-pipeline==0.1.0) (3.3.0)\n",
            "Requirement already satisfied: termcolor~=1.1.0 in /usr/local/lib/python3.7/dist-packages (from tensorflow>=2.4.0->soundofai-osr-tts-pipeline==0.1.0) (1.1.0)\n",
            "Requirement already satisfied: protobuf>=3.9.2 in /usr/local/lib/python3.7/dist-packages (from tensorflow>=2.4.0->soundofai-osr-tts-pipeline==0.1.0) (3.12.4)\n",
            "Requirement already satisfied: typing-extensions~=3.7.4 in /usr/local/lib/python3.7/dist-packages (from tensorflow>=2.4.0->soundofai-osr-tts-pipeline==0.1.0) (3.7.4.3)\n",
            "Requirement already satisfied: tensorboard~=2.4 in /usr/local/lib/python3.7/dist-packages (from tensorflow>=2.4.0->soundofai-osr-tts-pipeline==0.1.0) (2.4.1)\n",
            "Requirement already satisfied: h5py~=2.10.0 in /usr/local/lib/python3.7/dist-packages (from tensorflow>=2.4.0->soundofai-osr-tts-pipeline==0.1.0) (2.10.0)\n",
            "Requirement already satisfied: gast==0.3.3 in /usr/local/lib/python3.7/dist-packages (from tensorflow>=2.4.0->soundofai-osr-tts-pipeline==0.1.0) (0.3.3)\n",
            "Requirement already satisfied: six~=1.15.0 in /usr/local/lib/python3.7/dist-packages (from tensorflow>=2.4.0->soundofai-osr-tts-pipeline==0.1.0) (1.15.0)\n",
            "Requirement already satisfied: wheel~=0.35 in /usr/local/lib/python3.7/dist-packages (from tensorflow>=2.4.0->soundofai-osr-tts-pipeline==0.1.0) (0.36.2)\n",
            "Requirement already satisfied: absl-py~=0.10 in /usr/local/lib/python3.7/dist-packages (from tensorflow>=2.4.0->soundofai-osr-tts-pipeline==0.1.0) (0.10.0)\n",
            "Requirement already satisfied: wrapt~=1.12.1 in /usr/local/lib/python3.7/dist-packages (from tensorflow>=2.4.0->soundofai-osr-tts-pipeline==0.1.0) (1.12.1)\n",
            "Requirement already satisfied: flatbuffers~=1.12.0 in /usr/local/lib/python3.7/dist-packages (from tensorflow>=2.4.0->soundofai-osr-tts-pipeline==0.1.0) (1.12)\n",
            "Requirement already satisfied: tensorflow-estimator<2.5.0,>=2.4.0 in /usr/local/lib/python3.7/dist-packages (from tensorflow>=2.4.0->soundofai-osr-tts-pipeline==0.1.0) (2.4.0)\n",
            "Requirement already satisfied: grpcio~=1.32.0 in /usr/local/lib/python3.7/dist-packages (from tensorflow>=2.4.0->soundofai-osr-tts-pipeline==0.1.0) (1.32.0)\n",
            "Requirement already satisfied: keras-preprocessing~=1.1.2 in /usr/local/lib/python3.7/dist-packages (from tensorflow>=2.4.0->soundofai-osr-tts-pipeline==0.1.0) (1.1.2)\n",
            "Requirement already satisfied: google-pasta~=0.2 in /usr/local/lib/python3.7/dist-packages (from tensorflow>=2.4.0->soundofai-osr-tts-pipeline==0.1.0) (0.2.0)\n",
            "Requirement already satisfied: setuptools in /usr/local/lib/python3.7/dist-packages (from protobuf>=3.9.2->tensorflow>=2.4.0->soundofai-osr-tts-pipeline==0.1.0) (54.1.2)\n",
            "Requirement already satisfied: google-auth<2,>=1.6.3 in /usr/local/lib/python3.7/dist-packages (from tensorboard~=2.4->tensorflow>=2.4.0->soundofai-osr-tts-pipeline==0.1.0) (1.27.1)\n",
            "Requirement already satisfied: requests<3,>=2.21.0 in /usr/local/lib/python3.7/dist-packages (from tensorboard~=2.4->tensorflow>=2.4.0->soundofai-osr-tts-pipeline==0.1.0) (2.23.0)\n",
            "Requirement already satisfied: werkzeug>=0.11.15 in /usr/local/lib/python3.7/dist-packages (from tensorboard~=2.4->tensorflow>=2.4.0->soundofai-osr-tts-pipeline==0.1.0) (1.0.1)\n",
            "Requirement already satisfied: google-auth-oauthlib<0.5,>=0.4.1 in /usr/local/lib/python3.7/dist-packages (from tensorboard~=2.4->tensorflow>=2.4.0->soundofai-osr-tts-pipeline==0.1.0) (0.4.3)\n",
            "Requirement already satisfied: tensorboard-plugin-wit>=1.6.0 in /usr/local/lib/python3.7/dist-packages (from tensorboard~=2.4->tensorflow>=2.4.0->soundofai-osr-tts-pipeline==0.1.0) (1.8.0)\n",
            "Requirement already satisfied: markdown>=2.6.8 in /usr/local/lib/python3.7/dist-packages (from tensorboard~=2.4->tensorflow>=2.4.0->soundofai-osr-tts-pipeline==0.1.0) (3.3.4)\n",
            "Requirement already satisfied: rsa<5,>=3.1.4; python_version >= \"3.6\" in /usr/local/lib/python3.7/dist-packages (from google-auth<2,>=1.6.3->tensorboard~=2.4->tensorflow>=2.4.0->soundofai-osr-tts-pipeline==0.1.0) (4.7.2)\n",
            "Requirement already satisfied: pyasn1-modules>=0.2.1 in /usr/local/lib/python3.7/dist-packages (from google-auth<2,>=1.6.3->tensorboard~=2.4->tensorflow>=2.4.0->soundofai-osr-tts-pipeline==0.1.0) (0.2.8)\n",
            "Requirement already satisfied: cachetools<5.0,>=2.0.0 in /usr/local/lib/python3.7/dist-packages (from google-auth<2,>=1.6.3->tensorboard~=2.4->tensorflow>=2.4.0->soundofai-osr-tts-pipeline==0.1.0) (4.2.1)\n",
            "Requirement already satisfied: chardet<4,>=3.0.2 in /usr/local/lib/python3.7/dist-packages (from requests<3,>=2.21.0->tensorboard~=2.4->tensorflow>=2.4.0->soundofai-osr-tts-pipeline==0.1.0) (3.0.4)\n",
            "Requirement already satisfied: idna<3,>=2.5 in /usr/local/lib/python3.7/dist-packages (from requests<3,>=2.21.0->tensorboard~=2.4->tensorflow>=2.4.0->soundofai-osr-tts-pipeline==0.1.0) (2.10)\n",
            "Requirement already satisfied: urllib3!=1.25.0,!=1.25.1,<1.26,>=1.21.1 in /usr/local/lib/python3.7/dist-packages (from requests<3,>=2.21.0->tensorboard~=2.4->tensorflow>=2.4.0->soundofai-osr-tts-pipeline==0.1.0) (1.24.3)\n",
            "Requirement already satisfied: certifi>=2017.4.17 in /usr/local/lib/python3.7/dist-packages (from requests<3,>=2.21.0->tensorboard~=2.4->tensorflow>=2.4.0->soundofai-osr-tts-pipeline==0.1.0) (2020.12.5)\n",
            "Requirement already satisfied: requests-oauthlib>=0.7.0 in /usr/local/lib/python3.7/dist-packages (from google-auth-oauthlib<0.5,>=0.4.1->tensorboard~=2.4->tensorflow>=2.4.0->soundofai-osr-tts-pipeline==0.1.0) (1.3.0)\n",
            "Requirement already satisfied: importlib-metadata; python_version < \"3.8\" in /usr/local/lib/python3.7/dist-packages (from markdown>=2.6.8->tensorboard~=2.4->tensorflow>=2.4.0->soundofai-osr-tts-pipeline==0.1.0) (3.7.2)\n",
            "Requirement already satisfied: pyasn1>=0.1.3 in /usr/local/lib/python3.7/dist-packages (from rsa<5,>=3.1.4; python_version >= \"3.6\"->google-auth<2,>=1.6.3->tensorboard~=2.4->tensorflow>=2.4.0->soundofai-osr-tts-pipeline==0.1.0) (0.4.8)\n",
            "Requirement already satisfied: oauthlib>=3.0.0 in /usr/local/lib/python3.7/dist-packages (from requests-oauthlib>=0.7.0->google-auth-oauthlib<0.5,>=0.4.1->tensorboard~=2.4->tensorflow>=2.4.0->soundofai-osr-tts-pipeline==0.1.0) (3.1.0)\n",
            "Requirement already satisfied: zipp>=0.5 in /usr/local/lib/python3.7/dist-packages (from importlib-metadata; python_version < \"3.8\"->markdown>=2.6.8->tensorboard~=2.4->tensorflow>=2.4.0->soundofai-osr-tts-pipeline==0.1.0) (3.4.1)\n",
            "Building wheels for collected packages: soundofai-osr-tts-pipeline\n",
            "  Building wheel for soundofai-osr-tts-pipeline (setup.py) ... \u001b[?25l\u001b[?25hdone\n",
            "  Created wheel for soundofai-osr-tts-pipeline: filename=soundofai_osr_tts_pipeline-0.1.0-cp37-none-any.whl size=6471 sha256=fa4c813a14cea54e6d693924d8686b71b8dbe4b7c15bcbcdd603d5b1c7bc6adf\n",
            "  Stored in directory: /tmp/pip-ephem-wheel-cache-izlocotf/wheels/f7/77/e2/d08680eb4eb9b81c459ab0a93c19b61285f09ebd050554ca36\n",
            "Successfully built soundofai-osr-tts-pipeline\n",
            "\u001b[31mERROR: datascience 0.10.6 has requirement folium==0.2.1, but you'll have folium 0.8.3 which is incompatible.\u001b[0m\n",
            "\u001b[31mERROR: albumentations 0.1.12 has requirement imgaug<0.2.7,>=0.2.5, but you'll have imgaug 0.2.9 which is incompatible.\u001b[0m\n",
            "Installing collected packages: numpy, tensorflow-text, soundofai-osr-tts-pipeline\n",
            "  Found existing installation: numpy 1.19.5\n",
            "    Uninstalling numpy-1.19.5:\n",
            "      Successfully uninstalled numpy-1.19.5\n",
            "Successfully installed numpy-1.19.2 soundofai-osr-tts-pipeline-0.1.0 tensorflow-text-2.4.3\n"
          ],
          "name": "stdout"
        },
        {
          "output_type": "display_data",
          "data": {
            "application/vnd.colab-display-data+json": {
              "pip_warning": {
                "packages": [
                  "numpy"
                ]
              }
            }
          },
          "metadata": {
            "tags": []
          }
        }
      ]
    },
    {
      "cell_type": "markdown",
      "metadata": {
        "id": "YZDkCQE3bOZ2"
      },
      "source": [
        "# Pipeline usage"
      ]
    },
    {
      "cell_type": "code",
      "metadata": {
        "colab": {
          "base_uri": "https://localhost:8080/"
        },
        "id": "VGiHpbduVRT7",
        "outputId": "12ddccdc-54ab-4f5c-9f94-fbca7b234150"
      },
      "source": [
        "from tts_pipeline.pipelines.waterfall.pipeline import WaterfallPipeline\n",
        "from tts_pipeline.pipelines.waterfall.models.examples import (\n",
        "    DummyWaterfallKeywordExtractor,\n",
        "    BERTWaterfallEmbedder,\n",
        "    DummyWaterfallDimensionalityReducer\n",
        ")\n",
        "\n",
        "pipeline = WaterfallPipeline(\n",
        "    keyword_extractor = DummyWaterfallKeywordExtractor(),\n",
        "    embedder = BERTWaterfallEmbedder(tf_hub_url=\"https://tfhub.dev/tensorflow/small_bert/bert_en_uncased_L-4_H-128_A-2/1\"),\n",
        "    dimensionality_reducer = DummyWaterfallDimensionalityReducer()\n",
        ")\n",
        "\n",
        "pipeline.build()\n",
        "pipeline.predict(\"a sentence\")"
      ],
      "execution_count": 4,
      "outputs": [
        {
          "output_type": "execute_result",
          "data": {
            "text/plain": [
              "{'latent_sample': [0.006180914584547281,\n",
              "  0.8269093036651611,\n",
              "  -0.7264376282691956,\n",
              "  -0.8143622279167175,\n",
              "  0.7739483714103699,\n",
              "  -0.030832337215542793,\n",
              "  0.718966007232666,\n",
              "  0.976027250289917,\n",
              "  0.02572336420416832,\n",
              "  -0.47014039754867554,\n",
              "  -0.9980174899101257,\n",
              "  -0.7777827382087708,\n",
              "  0.9996303915977478,\n",
              "  0.2778970003128052,\n",
              "  -0.5174909830093384,\n",
              "  0.6772952079772949],\n",
              " 'pitch': 60,\n",
              " 'qualities': ['a', 'sentence'],\n",
              " 'source': 'sentence',\n",
              " 'velocity': 75}"
            ]
          },
          "metadata": {
            "tags": []
          },
          "execution_count": 4
        }
      ]
    },
    {
      "cell_type": "code",
      "metadata": {
        "colab": {
          "base_uri": "https://localhost:8080/"
        },
        "id": "wzobjNvkXlTV",
        "outputId": "b7ae88b6-d151-4465-808f-3053bf664b71"
      },
      "source": [
        "pipeline.predict(\"this is a longer sentence and it's awesome\")"
      ],
      "execution_count": 5,
      "outputs": [
        {
          "output_type": "stream",
          "text": [
            "WARNING:tensorflow:5 out of the last 5 calls to <function recreate_function.<locals>.restored_function_body at 0x7f58027f88c0> triggered tf.function retracing. Tracing is expensive and the excessive number of tracings could be due to (1) creating @tf.function repeatedly in a loop, (2) passing tensors with different shapes, (3) passing Python objects instead of tensors. For (1), please define your @tf.function outside of the loop. For (2), @tf.function has experimental_relax_shapes=True option that relaxes argument shapes that can avoid unnecessary retracing. For (3), please refer to https://www.tensorflow.org/guide/function#controlling_retracing and https://www.tensorflow.org/api_docs/python/tf/function for  more details.\n"
          ],
          "name": "stdout"
        },
        {
          "output_type": "stream",
          "text": [
            "WARNING:tensorflow:5 out of the last 5 calls to <function recreate_function.<locals>.restored_function_body at 0x7f58027f88c0> triggered tf.function retracing. Tracing is expensive and the excessive number of tracings could be due to (1) creating @tf.function repeatedly in a loop, (2) passing tensors with different shapes, (3) passing Python objects instead of tensors. For (1), please define your @tf.function outside of the loop. For (2), @tf.function has experimental_relax_shapes=True option that relaxes argument shapes that can avoid unnecessary retracing. For (3), please refer to https://www.tensorflow.org/guide/function#controlling_retracing and https://www.tensorflow.org/api_docs/python/tf/function for  more details.\n"
          ],
          "name": "stderr"
        },
        {
          "output_type": "stream",
          "text": [
            "WARNING:tensorflow:6 out of the last 6 calls to <function recreate_function.<locals>.restored_function_body at 0x7f57fff96290> triggered tf.function retracing. Tracing is expensive and the excessive number of tracings could be due to (1) creating @tf.function repeatedly in a loop, (2) passing tensors with different shapes, (3) passing Python objects instead of tensors. For (1), please define your @tf.function outside of the loop. For (2), @tf.function has experimental_relax_shapes=True option that relaxes argument shapes that can avoid unnecessary retracing. For (3), please refer to https://www.tensorflow.org/guide/function#controlling_retracing and https://www.tensorflow.org/api_docs/python/tf/function for  more details.\n"
          ],
          "name": "stdout"
        },
        {
          "output_type": "stream",
          "text": [
            "WARNING:tensorflow:6 out of the last 6 calls to <function recreate_function.<locals>.restored_function_body at 0x7f57fff96290> triggered tf.function retracing. Tracing is expensive and the excessive number of tracings could be due to (1) creating @tf.function repeatedly in a loop, (2) passing tensors with different shapes, (3) passing Python objects instead of tensors. For (1), please define your @tf.function outside of the loop. For (2), @tf.function has experimental_relax_shapes=True option that relaxes argument shapes that can avoid unnecessary retracing. For (3), please refer to https://www.tensorflow.org/guide/function#controlling_retracing and https://www.tensorflow.org/api_docs/python/tf/function for  more details.\n"
          ],
          "name": "stderr"
        },
        {
          "output_type": "execute_result",
          "data": {
            "text/plain": [
              "{'latent_sample': [0.04316964000463486,\n",
              "  0.8932338953018188,\n",
              "  0.44633564352989197,\n",
              "  -0.4507346749305725,\n",
              "  0.9725609421730042,\n",
              "  0.005000357050448656,\n",
              "  -0.45076096057891846,\n",
              "  0.9331349730491638,\n",
              "  -0.013016034848988056,\n",
              "  -0.23574545979499817,\n",
              "  -0.9992653727531433,\n",
              "  -0.9355983734130859,\n",
              "  0.9984662532806396,\n",
              "  0.971244215965271,\n",
              "  -0.9185348153114319,\n",
              "  0.8730870485305786],\n",
              " 'pitch': 60,\n",
              " 'qualities': ['this',\n",
              "  'is',\n",
              "  'a',\n",
              "  'longer',\n",
              "  'sentence',\n",
              "  'and',\n",
              "  \"it's\",\n",
              "  'awesome'],\n",
              " 'source': 'sentence',\n",
              " 'velocity': 75}"
            ]
          },
          "metadata": {
            "tags": []
          },
          "execution_count": 5
        }
      ]
    },
    {
      "cell_type": "code",
      "metadata": {
        "id": "an9LrfjPYCS0"
      },
      "source": [
        "pipeline.dispose()"
      ],
      "execution_count": 6,
      "outputs": []
    },
    {
      "cell_type": "code",
      "metadata": {
        "colab": {
          "base_uri": "https://localhost:8080/"
        },
        "id": "00UpoINVZQqk",
        "outputId": "6aa64d4c-b327-4287-edee-cf36a16ca1f8"
      },
      "source": [
        "model = DummyWaterfallKeywordExtractor()\n",
        "model.build()\n",
        "model.predict(\"my sentence\")"
      ],
      "execution_count": 7,
      "outputs": [
        {
          "output_type": "execute_result",
          "data": {
            "text/plain": [
              "{'instrument': 'sentence',\n",
              " 'pitch': 60,\n",
              " 'soundquality': ['my', 'sentence'],\n",
              " 'velocity': 75}"
            ]
          },
          "metadata": {
            "tags": []
          },
          "execution_count": 7
        }
      ]
    },
    {
      "cell_type": "markdown",
      "metadata": {
        "id": "bI2-U_ZxbSMr"
      },
      "source": [
        "# Cutom model - Embedder"
      ]
    },
    {
      "cell_type": "code",
      "metadata": {
        "id": "QMmijYUDZai7"
      },
      "source": [
        "import tensorflow_hub as hub\n",
        "from tts_pipeline.pipelines.waterfall.pipeline import WaterfallEmbedder\n",
        "\n",
        "class UniversalSentenceEncoderWaterfallEmbedder(WaterfallEmbedder):\n",
        "  def __init__(self, tf_hub_url: str = \"https://tfhub.dev/google/tf2-preview/gnews-swivel-20dim/1\"):\n",
        "    self.tf_hub_url = tf_hub_url\n",
        "    self.built=False\n",
        "\n",
        "  def build(self):\n",
        "    self.model = hub.load(self.tf_hub_url)\n",
        "    self.built=True\n",
        "\n",
        "  def predict(self, sentence: str, keyword_extraction_results: dict):\n",
        "    assert self.built, \"the model is not built, please invoke the build() method first\"\n",
        "    result = {}\n",
        "    result[\"sentence\"] = self.model([sentence]).numpy()[0].tolist()\n",
        "    result[\"soundquality\"] = self.model(keyword_extraction_results[\"soundquality\"]).numpy().tolist()\n",
        "    result[\"instrument\"] = self.model([keyword_extraction_results[\"instrument\"]]).numpy()[0].tolist()\n",
        "    return result\n",
        "\n",
        "  def dispose(self):\n",
        "    del self.model\n",
        "    self.built=False"
      ],
      "execution_count": 15,
      "outputs": []
    },
    {
      "cell_type": "code",
      "metadata": {
        "id": "zuLOtqn_gUic"
      },
      "source": [
        "model = UniversalSentenceEncoderWaterfallEmbedder()\n",
        "model.build()\n",
        "model.predict(\n",
        "    \"this is a sentence\",\n",
        "    {\n",
        "        \"soundquality\": [\"bright\", \"clean\"],\n",
        "        \"instrument\": \"acoustic guitar\",\n",
        "        \"pitch\": 10,\n",
        "        \"velocity\": 10\n",
        "    }\n",
        ")"
      ],
      "execution_count": null,
      "outputs": []
    },
    {
      "cell_type": "code",
      "metadata": {
        "id": "jsQfUFWVg6YD"
      },
      "source": [
        "result = model.predict(\n",
        "    \"this is a sentence\",\n",
        "    {\n",
        "        \"soundquality\": [\"bright\", \"clean\"],\n",
        "        \"instrument\": \"acoustic guitar\",\n",
        "        \"pitch\": 10,\n",
        "        \"velocity\": 10\n",
        "    }\n",
        ")"
      ],
      "execution_count": 17,
      "outputs": []
    },
    {
      "cell_type": "code",
      "metadata": {
        "colab": {
          "base_uri": "https://localhost:8080/"
        },
        "id": "OhA_ae6QhsD5",
        "outputId": "026bf90c-c220-4cd3-a31c-13ddded294f0"
      },
      "source": [
        "result.keys()"
      ],
      "execution_count": 18,
      "outputs": [
        {
          "output_type": "execute_result",
          "data": {
            "text/plain": [
              "dict_keys(['sentence', 'soundquality', 'instrument'])"
            ]
          },
          "metadata": {
            "tags": []
          },
          "execution_count": 18
        }
      ]
    },
    {
      "cell_type": "code",
      "metadata": {
        "colab": {
          "base_uri": "https://localhost:8080/"
        },
        "id": "n4tYj5vJhwlS",
        "outputId": "106b19be-e29a-4db2-8504-7b5b1ff44797"
      },
      "source": [
        "len(result[\"sentence\"])"
      ],
      "execution_count": 19,
      "outputs": [
        {
          "output_type": "execute_result",
          "data": {
            "text/plain": [
              "512"
            ]
          },
          "metadata": {
            "tags": []
          },
          "execution_count": 19
        }
      ]
    },
    {
      "cell_type": "code",
      "metadata": {
        "colab": {
          "base_uri": "https://localhost:8080/"
        },
        "id": "UkPVYGUvh0l6",
        "outputId": "0b4be539-6726-44a3-e270-99d5086264e2"
      },
      "source": [
        "result[\"sentence\"][:32]"
      ],
      "execution_count": 20,
      "outputs": [
        {
          "output_type": "execute_result",
          "data": {
            "text/plain": [
              "[0.028817646205425262,\n",
              " -0.020200153812766075,\n",
              " 0.01069628819823265,\n",
              " 0.038505300879478455,\n",
              " -0.09253698587417603,\n",
              " 0.017527736723423004,\n",
              " -0.047117531299591064,\n",
              " 0.04785209894180298,\n",
              " 0.014307161793112755,\n",
              " 0.026359528303146362,\n",
              " 0.02157277800142765,\n",
              " -0.04987606406211853,\n",
              " 0.030238166451454163,\n",
              " 0.1192370057106018,\n",
              " 0.04333100840449333,\n",
              " -0.11343763023614883,\n",
              " -0.025693802163004875,\n",
              " 0.008759822696447372,\n",
              " -0.03205025568604469,\n",
              " -0.035288915038108826,\n",
              " 0.06509800255298615,\n",
              " 0.07168703526258469,\n",
              " 0.00487420242279768,\n",
              " -0.006229517515748739,\n",
              " -0.054833851754665375,\n",
              " 0.06636364758014679,\n",
              " 0.021976977586746216,\n",
              " -0.08987361192703247,\n",
              " 0.036639127880334854,\n",
              " -0.041861094534397125,\n",
              " 0.030207039788365364,\n",
              " -0.021765589714050293]"
            ]
          },
          "metadata": {
            "tags": []
          },
          "execution_count": 20
        }
      ]
    },
    {
      "cell_type": "code",
      "metadata": {
        "colab": {
          "base_uri": "https://localhost:8080/"
        },
        "id": "9pezqJ1viL98",
        "outputId": "4f44f50b-e32b-4a74-ed06-b71cc7883e2d"
      },
      "source": [
        "model.dispose()"
      ],
      "execution_count": 22,
      "outputs": [
        {
          "output_type": "stream",
          "text": [
            "WARNING:tensorflow:6 out of the last 11 calls to <function recreate_function.<locals>.restored_function_body at 0x7f57fe6eb4d0> triggered tf.function retracing. Tracing is expensive and the excessive number of tracings could be due to (1) creating @tf.function repeatedly in a loop, (2) passing tensors with different shapes, (3) passing Python objects instead of tensors. For (1), please define your @tf.function outside of the loop. For (2), @tf.function has experimental_relax_shapes=True option that relaxes argument shapes that can avoid unnecessary retracing. For (3), please refer to https://www.tensorflow.org/guide/function#controlling_retracing and https://www.tensorflow.org/api_docs/python/tf/function for  more details.\n"
          ],
          "name": "stdout"
        },
        {
          "output_type": "stream",
          "text": [
            "WARNING:tensorflow:6 out of the last 11 calls to <function recreate_function.<locals>.restored_function_body at 0x7f57fe6eb4d0> triggered tf.function retracing. Tracing is expensive and the excessive number of tracings could be due to (1) creating @tf.function repeatedly in a loop, (2) passing tensors with different shapes, (3) passing Python objects instead of tensors. For (1), please define your @tf.function outside of the loop. For (2), @tf.function has experimental_relax_shapes=True option that relaxes argument shapes that can avoid unnecessary retracing. For (3), please refer to https://www.tensorflow.org/guide/function#controlling_retracing and https://www.tensorflow.org/api_docs/python/tf/function for  more details.\n"
          ],
          "name": "stderr"
        }
      ]
    },
    {
      "cell_type": "code",
      "metadata": {
        "colab": {
          "base_uri": "https://localhost:8080/"
        },
        "id": "qnkH0ENXiAHb",
        "outputId": "a35bcbd9-0ac7-45f7-b01c-a7b5807e5091"
      },
      "source": [
        "pipeline = WaterfallPipeline(\n",
        "    keyword_extractor = DummyWaterfallKeywordExtractor(),\n",
        "    embedder = UniversalSentenceEncoderWaterfallEmbedder(),\n",
        "    dimensionality_reducer = DummyWaterfallDimensionalityReducer()\n",
        ")\n",
        "\n",
        "pipeline.build()\n",
        "pipeline.predict(\"a sentence\")"
      ],
      "execution_count": 23,
      "outputs": [
        {
          "output_type": "stream",
          "text": [
            "WARNING:tensorflow:6 out of the last 11 calls to <function recreate_function.<locals>.restored_function_body at 0x7f57ff0369e0> triggered tf.function retracing. Tracing is expensive and the excessive number of tracings could be due to (1) creating @tf.function repeatedly in a loop, (2) passing tensors with different shapes, (3) passing Python objects instead of tensors. For (1), please define your @tf.function outside of the loop. For (2), @tf.function has experimental_relax_shapes=True option that relaxes argument shapes that can avoid unnecessary retracing. For (3), please refer to https://www.tensorflow.org/guide/function#controlling_retracing and https://www.tensorflow.org/api_docs/python/tf/function for  more details.\n"
          ],
          "name": "stdout"
        },
        {
          "output_type": "stream",
          "text": [
            "WARNING:tensorflow:6 out of the last 11 calls to <function recreate_function.<locals>.restored_function_body at 0x7f57ff0369e0> triggered tf.function retracing. Tracing is expensive and the excessive number of tracings could be due to (1) creating @tf.function repeatedly in a loop, (2) passing tensors with different shapes, (3) passing Python objects instead of tensors. For (1), please define your @tf.function outside of the loop. For (2), @tf.function has experimental_relax_shapes=True option that relaxes argument shapes that can avoid unnecessary retracing. For (3), please refer to https://www.tensorflow.org/guide/function#controlling_retracing and https://www.tensorflow.org/api_docs/python/tf/function for  more details.\n"
          ],
          "name": "stderr"
        },
        {
          "output_type": "stream",
          "text": [
            "WARNING:tensorflow:6 out of the last 11 calls to <function recreate_function.<locals>.restored_function_body at 0x7f57ff05a680> triggered tf.function retracing. Tracing is expensive and the excessive number of tracings could be due to (1) creating @tf.function repeatedly in a loop, (2) passing tensors with different shapes, (3) passing Python objects instead of tensors. For (1), please define your @tf.function outside of the loop. For (2), @tf.function has experimental_relax_shapes=True option that relaxes argument shapes that can avoid unnecessary retracing. For (3), please refer to https://www.tensorflow.org/guide/function#controlling_retracing and https://www.tensorflow.org/api_docs/python/tf/function for  more details.\n"
          ],
          "name": "stdout"
        },
        {
          "output_type": "stream",
          "text": [
            "WARNING:tensorflow:6 out of the last 11 calls to <function recreate_function.<locals>.restored_function_body at 0x7f57ff05a680> triggered tf.function retracing. Tracing is expensive and the excessive number of tracings could be due to (1) creating @tf.function repeatedly in a loop, (2) passing tensors with different shapes, (3) passing Python objects instead of tensors. For (1), please define your @tf.function outside of the loop. For (2), @tf.function has experimental_relax_shapes=True option that relaxes argument shapes that can avoid unnecessary retracing. For (3), please refer to https://www.tensorflow.org/guide/function#controlling_retracing and https://www.tensorflow.org/api_docs/python/tf/function for  more details.\n"
          ],
          "name": "stderr"
        },
        {
          "output_type": "execute_result",
          "data": {
            "text/plain": [
              "{'latent_sample': [-0.023791885003447533,\n",
              "  -0.02070368081331253,\n",
              "  0.03718067705631256,\n",
              "  -0.014570570550858974,\n",
              "  -0.08293148875236511,\n",
              "  0.06481515616178513,\n",
              "  -0.053779907524585724,\n",
              "  -0.0019122824305668473,\n",
              "  -7.766970520606264e-05,\n",
              "  -0.0022318423725664616,\n",
              "  0.020326251164078712,\n",
              "  -0.0382310152053833,\n",
              "  0.033373527228832245,\n",
              "  0.10438230633735657,\n",
              "  0.012718302197754383,\n",
              "  -0.10266664624214172],\n",
              " 'pitch': 60,\n",
              " 'qualities': ['a', 'sentence'],\n",
              " 'source': 'sentence',\n",
              " 'velocity': 75}"
            ]
          },
          "metadata": {
            "tags": []
          },
          "execution_count": 23
        }
      ]
    },
    {
      "cell_type": "code",
      "metadata": {
        "colab": {
          "base_uri": "https://localhost:8080/"
        },
        "id": "5rrlNYQEh35K",
        "outputId": "a9caeb71-df3d-4199-d5cc-1963c14cb619"
      },
      "source": [
        "pipeline.dispose()"
      ],
      "execution_count": 24,
      "outputs": [
        {
          "output_type": "stream",
          "text": [
            "WARNING:tensorflow:5 out of the last 12 calls to <function recreate_function.<locals>.restored_function_body at 0x7f57ff051d40> triggered tf.function retracing. Tracing is expensive and the excessive number of tracings could be due to (1) creating @tf.function repeatedly in a loop, (2) passing tensors with different shapes, (3) passing Python objects instead of tensors. For (1), please define your @tf.function outside of the loop. For (2), @tf.function has experimental_relax_shapes=True option that relaxes argument shapes that can avoid unnecessary retracing. For (3), please refer to https://www.tensorflow.org/guide/function#controlling_retracing and https://www.tensorflow.org/api_docs/python/tf/function for  more details.\n"
          ],
          "name": "stdout"
        },
        {
          "output_type": "stream",
          "text": [
            "WARNING:tensorflow:5 out of the last 12 calls to <function recreate_function.<locals>.restored_function_body at 0x7f57ff051d40> triggered tf.function retracing. Tracing is expensive and the excessive number of tracings could be due to (1) creating @tf.function repeatedly in a loop, (2) passing tensors with different shapes, (3) passing Python objects instead of tensors. For (1), please define your @tf.function outside of the loop. For (2), @tf.function has experimental_relax_shapes=True option that relaxes argument shapes that can avoid unnecessary retracing. For (3), please refer to https://www.tensorflow.org/guide/function#controlling_retracing and https://www.tensorflow.org/api_docs/python/tf/function for  more details.\n"
          ],
          "name": "stderr"
        }
      ]
    },
    {
      "cell_type": "code",
      "metadata": {
        "id": "25KDrH5wiqli"
      },
      "source": [
        ""
      ],
      "execution_count": null,
      "outputs": []
    }
  ]
}